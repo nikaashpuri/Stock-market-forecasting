{
 "metadata": {
  "language_info": {
   "codemirror_mode": {
    "name": "ipython",
    "version": 3
   },
   "file_extension": ".py",
   "mimetype": "text/x-python",
   "name": "python",
   "nbconvert_exporter": "python",
   "pygments_lexer": "ipython3",
   "version": "3.7.3-final"
  },
  "orig_nbformat": 2,
  "kernelspec": {
   "name": "python3",
   "display_name": "Python 3",
   "language": "python"
  }
 },
 "nbformat": 4,
 "nbformat_minor": 2,
 "cells": [
  {
   "cell_type": "code",
   "execution_count": 6,
   "metadata": {},
   "outputs": [],
   "source": [
    "import os \n",
    "import pandas as pd \n",
    "from collections import defaultdict\n"
   ]
  },
  {
   "cell_type": "code",
   "execution_count": 26,
   "metadata": {},
   "outputs": [],
   "source": [
    "symbols = ['INFY', 'RELIANCE']\n",
    "data_directory = os.path.join(os.getcwd(), 'data')"
   ]
  },
  {
   "cell_type": "code",
   "execution_count": 29,
   "metadata": {},
   "outputs": [
    {
     "output_type": "stream",
     "name": "stdout",
     "text": [
      "reading filepath =  /Users/nikpuri/Documents/python-projects/RL-trading/Stock-market-forecasting/data/INFY.NS.csv\nreading filepath =  /Users/nikpuri/Documents/python-projects/RL-trading/Stock-market-forecasting/data/RELIANCE.NS.csv\n"
     ]
    }
   ],
   "source": [
    "df_merged = pd.DataFrame()\n",
    "date_added = False\n",
    "\n",
    "for symbol in symbols:\n",
    "    filename = '%s.NS.csv' % symbol\n",
    "    filepath = os.path.join(data_directory, filename)\n",
    "    print('reading filepath = ', filepath)\n",
    "    df = pd.read_csv(filepath)\n",
    "    if not date_added:\n",
    "        df_merged['Date'] = df['Date']\n",
    "        date_added = True\n",
    "    df_merged['%s_OPEN' % symbol] = df['Open']\n",
    "    df_merged['%s_CLOSE' % symbol] = df['Close']\n",
    "    \n",
    "dict_year_to_open_data = defaultdict(list)\n",
    "dict_year_to_close_data = defaultdict(list)\n",
    "dict_year_and_month_to_constituents = defaultdict(list)\n",
    "\n",
    "for index, row in df_merged.iterrows():\n",
    "    year = row['Date'].split('-')[0]\n",
    "    month = row['Date'].split('-')[1]\n",
    "    \n",
    "    \n",
    "    open_data = {'Date': row['Date']}\n",
    "    close_data = {'Date': row['Date']}\n",
    "    \n",
    "    for symbol in symbols:\n",
    "        open_data[symbol] = row['%s_OPEN' % symbol]\n",
    "        close_data[symbol] = row['%s_CLOSE' % symbol]\n",
    "\n",
    "    dict_year_to_open_data[year].append(open_data)\n",
    "    dict_year_to_close_data[year].append(close_data)   \n",
    "\n",
    "for key, value in dict_year_to_open_data.items():\n",
    "    pd.DataFrame.from_dict(value).to_csv(os.path.join(data_directory, 'Open-%s.csv' % key), index=False)\n",
    "\n",
    "for key, value in dict_year_to_close_data.items():\n",
    "    pd.DataFrame.from_dict(value).to_csv(os.path.join(data_directory, 'Close-%s.csv' % key), index=False)\n"
   ]
  },
  {
   "cell_type": "code",
   "execution_count": null,
   "metadata": {},
   "outputs": [],
   "source": []
  }
 ]
}