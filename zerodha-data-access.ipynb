{
 "metadata": {
  "language_info": {
   "codemirror_mode": {
    "name": "ipython",
    "version": 3
   },
   "file_extension": ".py",
   "mimetype": "text/x-python",
   "name": "python",
   "nbconvert_exporter": "python",
   "pygments_lexer": "ipython3",
   "version": "3.7.3-final"
  },
  "orig_nbformat": 2,
  "kernelspec": {
   "name": "python3",
   "display_name": "Python 3",
   "language": "python"
  }
 },
 "nbformat": 4,
 "nbformat_minor": 2,
 "cells": [
  {
   "cell_type": "code",
   "execution_count": 33,
   "metadata": {},
   "outputs": [],
   "source": [
    "from kiteconnect import KiteConnect \n",
    "\n",
    "# Initialize all the variables we need\n",
    "api_key = \"odjb88lv9kr5bwf0\"\n",
    "client_id = \"XP5232\"\n",
    "api_secret = \"yukjdh26h4en48pude8ojobohqrk9o74\"\n",
    "\n"
   ]
  },
  {
   "cell_type": "code",
   "execution_count": 34,
   "metadata": {},
   "outputs": [
    {
     "output_type": "execute_result",
     "data": {
      "text/plain": [
       "'https://kite.trade/connect/login?api_key=odjb88lv9kr5bwf0&v=3'"
      ]
     },
     "metadata": {},
     "execution_count": 34
    }
   ],
   "source": [
    "kite = KiteConnect(api_key=api_key)\n",
    "kite.login_url()"
   ]
  },
  {
   "cell_type": "code",
   "execution_count": 35,
   "metadata": {},
   "outputs": [],
   "source": [
    "request_token = 'UCOGji9WpPN0zVXzvOwGlC4eFkWxi7w2'\n"
   ]
  },
  {
   "cell_type": "code",
   "execution_count": 36,
   "metadata": {},
   "outputs": [
    {
     "output_type": "stream",
     "name": "stdout",
     "text": [
      "{'user_type': 'individual', 'email': 'nikaashpuri@gmail.com', 'user_name': 'Nikaash Puri', 'user_shortname': 'Nikaash', 'broker': 'ZERODHA', 'exchanges': [], 'products': ['CNC', 'NRML', 'MIS', 'BO', 'CO'], 'order_types': ['MARKET', 'LIMIT', 'SL', 'SL-M'], 'avatar_url': None, 'user_id': 'XP5232', 'api_key': 'odjb88lv9kr5bwf0', 'access_token': '69wRGmm4VMsSKkQdOLEdR2JJaPEF0DEg', 'public_token': 'pn2tg0PcaC4xcN8f7mR9UGsiSUn6286H', 'refresh_token': '', 'silo': '', 'login_time': datetime.datetime(2021, 1, 23, 17, 25, 21), 'meta': {'demat_consent': 'physical'}}\n"
     ]
    }
   ],
   "source": [
    "session = kite.generate_session(request_token, api_secret)\n",
    "print(session)\n",
    "access_token = session['access_token']\n",
    "kite.set_access_token(access_token)"
   ]
  },
  {
   "cell_type": "code",
   "execution_count": 37,
   "metadata": {},
   "outputs": [
    {
     "output_type": "stream",
     "name": "stdout",
     "text": [
      "created dataframe with 1239 rows\n"
     ]
    },
    {
     "output_type": "execute_result",
     "data": {
      "text/plain": [
       "            date    open    high     low   close   volume\n",
       "0     2016-01-01  261.00  268.30  260.10  267.55  1347893\n",
       "1     2016-01-04  264.45  266.50  257.00  257.95  2536252\n",
       "2     2016-01-05  259.20  260.30  254.25  255.70  2815055\n",
       "3     2016-01-06  253.00  257.30  250.55  251.80  2029467\n",
       "4     2016-01-07  245.65  247.50  241.50  245.00  4244402\n",
       "...          ...     ...     ...     ...     ...      ...\n",
       "1234  2020-12-28  480.00  492.95  480.00  483.55  8372924\n",
       "1235  2020-12-29  485.00  489.85  478.20  483.40  5866837\n",
       "1236  2020-12-30  484.00  487.60  478.15  485.40  3736356\n",
       "1237  2020-12-31  485.40  490.80  480.25  483.75  4386328\n",
       "1238  2021-01-01  485.00  508.00  482.55  503.85  7815730\n",
       "\n",
       "[1239 rows x 6 columns]"
      ],
      "text/html": "<div>\n<style scoped>\n    .dataframe tbody tr th:only-of-type {\n        vertical-align: middle;\n    }\n\n    .dataframe tbody tr th {\n        vertical-align: top;\n    }\n\n    .dataframe thead th {\n        text-align: right;\n    }\n</style>\n<table border=\"1\" class=\"dataframe\">\n  <thead>\n    <tr style=\"text-align: right;\">\n      <th></th>\n      <th>date</th>\n      <th>open</th>\n      <th>high</th>\n      <th>low</th>\n      <th>close</th>\n      <th>volume</th>\n    </tr>\n  </thead>\n  <tbody>\n    <tr>\n      <th>0</th>\n      <td>2016-01-01</td>\n      <td>261.00</td>\n      <td>268.30</td>\n      <td>260.10</td>\n      <td>267.55</td>\n      <td>1347893</td>\n    </tr>\n    <tr>\n      <th>1</th>\n      <td>2016-01-04</td>\n      <td>264.45</td>\n      <td>266.50</td>\n      <td>257.00</td>\n      <td>257.95</td>\n      <td>2536252</td>\n    </tr>\n    <tr>\n      <th>2</th>\n      <td>2016-01-05</td>\n      <td>259.20</td>\n      <td>260.30</td>\n      <td>254.25</td>\n      <td>255.70</td>\n      <td>2815055</td>\n    </tr>\n    <tr>\n      <th>3</th>\n      <td>2016-01-06</td>\n      <td>253.00</td>\n      <td>257.30</td>\n      <td>250.55</td>\n      <td>251.80</td>\n      <td>2029467</td>\n    </tr>\n    <tr>\n      <th>4</th>\n      <td>2016-01-07</td>\n      <td>245.65</td>\n      <td>247.50</td>\n      <td>241.50</td>\n      <td>245.00</td>\n      <td>4244402</td>\n    </tr>\n    <tr>\n      <th>...</th>\n      <td>...</td>\n      <td>...</td>\n      <td>...</td>\n      <td>...</td>\n      <td>...</td>\n      <td>...</td>\n    </tr>\n    <tr>\n      <th>1234</th>\n      <td>2020-12-28</td>\n      <td>480.00</td>\n      <td>492.95</td>\n      <td>480.00</td>\n      <td>483.55</td>\n      <td>8372924</td>\n    </tr>\n    <tr>\n      <th>1235</th>\n      <td>2020-12-29</td>\n      <td>485.00</td>\n      <td>489.85</td>\n      <td>478.20</td>\n      <td>483.40</td>\n      <td>5866837</td>\n    </tr>\n    <tr>\n      <th>1236</th>\n      <td>2020-12-30</td>\n      <td>484.00</td>\n      <td>487.60</td>\n      <td>478.15</td>\n      <td>485.40</td>\n      <td>3736356</td>\n    </tr>\n    <tr>\n      <th>1237</th>\n      <td>2020-12-31</td>\n      <td>485.40</td>\n      <td>490.80</td>\n      <td>480.25</td>\n      <td>483.75</td>\n      <td>4386328</td>\n    </tr>\n    <tr>\n      <th>1238</th>\n      <td>2021-01-01</td>\n      <td>485.00</td>\n      <td>508.00</td>\n      <td>482.55</td>\n      <td>503.85</td>\n      <td>7815730</td>\n    </tr>\n  </tbody>\n</table>\n<p>1239 rows × 6 columns</p>\n</div>"
     },
     "metadata": {},
     "execution_count": 37
    }
   ],
   "source": [
    "def get_historical_data(instrument_token, from_date, to_date, interval):\n",
    "    \n",
    "    historical_data = kite.historical_data(instrument_token, from_date, to_date, interval)\n",
    "    df_historical = pd.DataFrame.from_dict(historical_data)\n",
    "    df_historical['date'] = df_historical['date'].dt.strftime('%Y-%m-%d')\n",
    "    df_historical.to_csv('data/%s.csv' % instrument_token, index=False)\n",
    "    print('created dataframe with %d rows' % df_historical.shape[0])\n",
    "    return df_historical\n",
    "\n",
    "df_historical = get_historical_data(\"3861249\", \"2016-01-01\", \"2021-01-01\", \"day\")\n",
    "df_historical"
   ]
  },
  {
   "cell_type": "code",
   "execution_count": 43,
   "metadata": {},
   "outputs": [
    {
     "output_type": "stream",
     "name": "stdout",
     "text": [
      "(80295, 12)\n",
      "(3423, 12)\n",
      "50\n",
      "3861249\n",
      "ADANIPORTS\n",
      "created dataframe with 1239 rows\n",
      "------------------\n",
      "60417\n",
      "ASIANPAINT\n",
      "created dataframe with 1239 rows\n",
      "------------------\n",
      "1510401\n",
      "AXISBANK\n",
      "created dataframe with 1239 rows\n",
      "------------------\n",
      "4267265\n",
      "BAJAJ-AUTO\n",
      "created dataframe with 1239 rows\n",
      "------------------\n",
      "81153\n",
      "BAJFINANCE\n",
      "created dataframe with 1239 rows\n",
      "------------------\n",
      "4268801\n",
      "BAJAJFINSV\n",
      "created dataframe with 1239 rows\n",
      "------------------\n",
      "134657\n",
      "BPCL\n",
      "created dataframe with 1239 rows\n",
      "------------------\n",
      "2714625\n",
      "BHARTIARTL\n",
      "created dataframe with 1239 rows\n",
      "------------------\n",
      "140033\n",
      "BRITANNIA\n",
      "created dataframe with 1239 rows\n",
      "------------------\n",
      "177665\n",
      "CIPLA\n",
      "created dataframe with 1239 rows\n",
      "------------------\n",
      "5215745\n",
      "COALINDIA\n",
      "created dataframe with 1239 rows\n",
      "------------------\n",
      "2800641\n",
      "DIVISLAB\n",
      "created dataframe with 1239 rows\n",
      "------------------\n",
      "225537\n",
      "DRREDDY\n",
      "created dataframe with 1239 rows\n",
      "------------------\n",
      "232961\n",
      "EICHERMOT\n",
      "created dataframe with 1239 rows\n",
      "------------------\n",
      "1207553\n",
      "GAIL\n",
      "created dataframe with 1239 rows\n",
      "------------------\n",
      "315393\n",
      "GRASIM\n",
      "created dataframe with 1239 rows\n",
      "------------------\n",
      "1850625\n",
      "HCLTECH\n",
      "created dataframe with 1239 rows\n",
      "------------------\n",
      "341249\n",
      "HDFCBANK\n",
      "created dataframe with 1239 rows\n",
      "------------------\n",
      "119553\n",
      "HDFCLIFE\n",
      "created dataframe with 774 rows\n",
      "------------------\n",
      "345089\n",
      "HEROMOTOCO\n",
      "created dataframe with 1239 rows\n",
      "------------------\n",
      "348929\n",
      "HINDALCO\n",
      "created dataframe with 1239 rows\n",
      "------------------\n",
      "356865\n",
      "HINDUNILVR\n",
      "created dataframe with 1239 rows\n",
      "------------------\n",
      "340481\n",
      "HDFC\n",
      "created dataframe with 1239 rows\n",
      "------------------\n",
      "1270529\n",
      "ICICIBANK\n",
      "created dataframe with 1239 rows\n",
      "------------------\n",
      "424961\n",
      "ITC\n",
      "created dataframe with 1239 rows\n",
      "------------------\n",
      "415745\n",
      "IOC\n",
      "created dataframe with 1239 rows\n",
      "------------------\n",
      "1346049\n",
      "INDUSINDBK\n",
      "created dataframe with 1239 rows\n",
      "------------------\n",
      "408065\n",
      "INFY\n",
      "created dataframe with 1239 rows\n",
      "------------------\n",
      "3001089\n",
      "JSWSTEEL\n",
      "created dataframe with 1239 rows\n",
      "------------------\n",
      "492033\n",
      "KOTAKBANK\n",
      "created dataframe with 1239 rows\n",
      "------------------\n",
      "2939649\n",
      "LT\n",
      "created dataframe with 1239 rows\n",
      "------------------\n",
      "519937\n",
      "M&M\n",
      "created dataframe with 1239 rows\n",
      "------------------\n",
      "2815745\n",
      "MARUTI\n",
      "created dataframe with 1239 rows\n",
      "------------------\n",
      "2977281\n",
      "NTPC\n",
      "created dataframe with 1239 rows\n",
      "------------------\n",
      "4598529\n",
      "NESTLEIND\n",
      "created dataframe with 1239 rows\n",
      "------------------\n",
      "633601\n",
      "ONGC\n",
      "created dataframe with 1239 rows\n",
      "------------------\n",
      "3834113\n",
      "POWERGRID\n",
      "created dataframe with 1239 rows\n",
      "------------------\n",
      "738561\n",
      "RELIANCE\n",
      "created dataframe with 1239 rows\n",
      "------------------\n",
      "5582849\n",
      "SBILIFE\n",
      "created dataframe with 806 rows\n",
      "------------------\n",
      "794369\n",
      "SHREECEM\n",
      "created dataframe with 1239 rows\n",
      "------------------\n",
      "779521\n",
      "SBIN\n",
      "created dataframe with 1239 rows\n",
      "------------------\n",
      "857857\n",
      "SUNPHARMA\n",
      "created dataframe with 1239 rows\n",
      "------------------\n",
      "2953217\n",
      "TCS\n",
      "created dataframe with 1239 rows\n",
      "------------------\n",
      "884737\n",
      "TATAMOTORS\n",
      "created dataframe with 1239 rows\n",
      "------------------\n",
      "895745\n",
      "TATASTEEL\n",
      "created dataframe with 1239 rows\n",
      "------------------\n",
      "3465729\n",
      "TECHM\n",
      "created dataframe with 1239 rows\n",
      "------------------\n",
      "897537\n",
      "TITAN\n",
      "created dataframe with 1239 rows\n",
      "------------------\n",
      "2889473\n",
      "UPL\n",
      "created dataframe with 1239 rows\n",
      "------------------\n",
      "2952193\n",
      "ULTRACEMCO\n",
      "created dataframe with 1239 rows\n",
      "------------------\n",
      "969473\n",
      "WIPRO\n",
      "created dataframe with 1239 rows\n",
      "------------------\n"
     ]
    }
   ],
   "source": [
    "import pandas as pd\n",
    "\n",
    "nifty50 = pd.read_csv('data/nifty50list.csv')\n",
    "zerodha_universe = pd.read_csv('data/zerodha-instruments.csv')\n",
    "print(zerodha_universe.shape)\n",
    "zerodha_universe = zerodha_universe[zerodha_universe['exchange'] == 'NSE']\n",
    "print(zerodha_universe.shape)\n",
    "trading_universe = nifty50.merge(zerodha_universe, how='inner', left_on='Symbol', right_on='tradingsymbol')\n",
    "dict_zerodha_id_to_symbol = {}\n",
    "for index, row in trading_universe.iterrows():\n",
    "    dict_zerodha_id_to_symbol[row['instrument_token']] = row['tradingsymbol']\n",
    "print(len(symbols))\n",
    "for zerodha_token, symbol in dict_zerodha_id_to_symbol.items():\n",
    "    print(zerodha_token)\n",
    "    print(symbol)\n",
    "    get_historical_data(str(zerodha_token), \"2016-01-01\", \"2021-01-01\", \"day\")\n",
    "    print('------------------')\n",
    "    "
   ]
  },
  {
   "cell_type": "code",
   "execution_count": 65,
   "metadata": {},
   "outputs": [
    {
     "output_type": "stream",
     "name": "stdout",
     "text": [
      "reading filepath =  /Users/nikpuri/Documents/python-projects/RL-trading/Stock-market-forecasting/data/3861249.csv\n",
      "reading filepath =  /Users/nikpuri/Documents/python-projects/RL-trading/Stock-market-forecasting/data/60417.csv\n",
      "reading filepath =  /Users/nikpuri/Documents/python-projects/RL-trading/Stock-market-forecasting/data/1510401.csv\n",
      "reading filepath =  /Users/nikpuri/Documents/python-projects/RL-trading/Stock-market-forecasting/data/4267265.csv\n",
      "reading filepath =  /Users/nikpuri/Documents/python-projects/RL-trading/Stock-market-forecasting/data/81153.csv\n",
      "reading filepath =  /Users/nikpuri/Documents/python-projects/RL-trading/Stock-market-forecasting/data/4268801.csv\n",
      "reading filepath =  /Users/nikpuri/Documents/python-projects/RL-trading/Stock-market-forecasting/data/134657.csv\n",
      "reading filepath =  /Users/nikpuri/Documents/python-projects/RL-trading/Stock-market-forecasting/data/2714625.csv\n",
      "reading filepath =  /Users/nikpuri/Documents/python-projects/RL-trading/Stock-market-forecasting/data/140033.csv\n",
      "reading filepath =  /Users/nikpuri/Documents/python-projects/RL-trading/Stock-market-forecasting/data/177665.csv\n",
      "reading filepath =  /Users/nikpuri/Documents/python-projects/RL-trading/Stock-market-forecasting/data/5215745.csv\n",
      "reading filepath =  /Users/nikpuri/Documents/python-projects/RL-trading/Stock-market-forecasting/data/2800641.csv\n",
      "reading filepath =  /Users/nikpuri/Documents/python-projects/RL-trading/Stock-market-forecasting/data/225537.csv\n",
      "reading filepath =  /Users/nikpuri/Documents/python-projects/RL-trading/Stock-market-forecasting/data/232961.csv\n",
      "reading filepath =  /Users/nikpuri/Documents/python-projects/RL-trading/Stock-market-forecasting/data/1207553.csv\n",
      "reading filepath =  /Users/nikpuri/Documents/python-projects/RL-trading/Stock-market-forecasting/data/315393.csv\n",
      "reading filepath =  /Users/nikpuri/Documents/python-projects/RL-trading/Stock-market-forecasting/data/1850625.csv\n",
      "reading filepath =  /Users/nikpuri/Documents/python-projects/RL-trading/Stock-market-forecasting/data/341249.csv\n",
      "reading filepath =  /Users/nikpuri/Documents/python-projects/RL-trading/Stock-market-forecasting/data/119553.csv\n",
      "reading filepath =  /Users/nikpuri/Documents/python-projects/RL-trading/Stock-market-forecasting/data/345089.csv\n",
      "reading filepath =  /Users/nikpuri/Documents/python-projects/RL-trading/Stock-market-forecasting/data/348929.csv\n",
      "reading filepath =  /Users/nikpuri/Documents/python-projects/RL-trading/Stock-market-forecasting/data/356865.csv\n",
      "reading filepath =  /Users/nikpuri/Documents/python-projects/RL-trading/Stock-market-forecasting/data/340481.csv\n",
      "reading filepath =  /Users/nikpuri/Documents/python-projects/RL-trading/Stock-market-forecasting/data/1270529.csv\n",
      "reading filepath =  /Users/nikpuri/Documents/python-projects/RL-trading/Stock-market-forecasting/data/424961.csv\n",
      "reading filepath =  /Users/nikpuri/Documents/python-projects/RL-trading/Stock-market-forecasting/data/415745.csv\n",
      "reading filepath =  /Users/nikpuri/Documents/python-projects/RL-trading/Stock-market-forecasting/data/1346049.csv\n",
      "reading filepath =  /Users/nikpuri/Documents/python-projects/RL-trading/Stock-market-forecasting/data/408065.csv\n",
      "reading filepath =  /Users/nikpuri/Documents/python-projects/RL-trading/Stock-market-forecasting/data/3001089.csv\n",
      "reading filepath =  /Users/nikpuri/Documents/python-projects/RL-trading/Stock-market-forecasting/data/492033.csv\n",
      "reading filepath =  /Users/nikpuri/Documents/python-projects/RL-trading/Stock-market-forecasting/data/2939649.csv\n",
      "reading filepath =  /Users/nikpuri/Documents/python-projects/RL-trading/Stock-market-forecasting/data/519937.csv\n",
      "reading filepath =  /Users/nikpuri/Documents/python-projects/RL-trading/Stock-market-forecasting/data/2815745.csv\n",
      "reading filepath =  /Users/nikpuri/Documents/python-projects/RL-trading/Stock-market-forecasting/data/2977281.csv\n",
      "reading filepath =  /Users/nikpuri/Documents/python-projects/RL-trading/Stock-market-forecasting/data/4598529.csv\n",
      "reading filepath =  /Users/nikpuri/Documents/python-projects/RL-trading/Stock-market-forecasting/data/633601.csv\n",
      "reading filepath =  /Users/nikpuri/Documents/python-projects/RL-trading/Stock-market-forecasting/data/3834113.csv\n",
      "reading filepath =  /Users/nikpuri/Documents/python-projects/RL-trading/Stock-market-forecasting/data/738561.csv\n",
      "reading filepath =  /Users/nikpuri/Documents/python-projects/RL-trading/Stock-market-forecasting/data/5582849.csv\n",
      "reading filepath =  /Users/nikpuri/Documents/python-projects/RL-trading/Stock-market-forecasting/data/794369.csv\n",
      "reading filepath =  /Users/nikpuri/Documents/python-projects/RL-trading/Stock-market-forecasting/data/779521.csv\n",
      "reading filepath =  /Users/nikpuri/Documents/python-projects/RL-trading/Stock-market-forecasting/data/857857.csv\n",
      "reading filepath =  /Users/nikpuri/Documents/python-projects/RL-trading/Stock-market-forecasting/data/2953217.csv\n",
      "reading filepath =  /Users/nikpuri/Documents/python-projects/RL-trading/Stock-market-forecasting/data/884737.csv\n",
      "reading filepath =  /Users/nikpuri/Documents/python-projects/RL-trading/Stock-market-forecasting/data/895745.csv\n",
      "reading filepath =  /Users/nikpuri/Documents/python-projects/RL-trading/Stock-market-forecasting/data/3465729.csv\n",
      "reading filepath =  /Users/nikpuri/Documents/python-projects/RL-trading/Stock-market-forecasting/data/897537.csv\n",
      "reading filepath =  /Users/nikpuri/Documents/python-projects/RL-trading/Stock-market-forecasting/data/2889473.csv\n",
      "reading filepath =  /Users/nikpuri/Documents/python-projects/RL-trading/Stock-market-forecasting/data/2952193.csv\n",
      "reading filepath =  /Users/nikpuri/Documents/python-projects/RL-trading/Stock-market-forecasting/data/969473.csv\n"
     ]
    }
   ],
   "source": [
    "import utils\n",
    "utils.create_merged_csv(list(dict_zerodha_id_to_symbol.keys()))"
   ]
  },
  {
   "cell_type": "code",
   "execution_count": 69,
   "metadata": {},
   "outputs": [
    {
     "output_type": "stream",
     "name": "stdout",
     "text": [
      "reading filepath =  /Users/nikpuri/Documents/python-projects/RL-trading/Stock-market-forecasting/data/969473.csv\nreading filepath =  /Users/nikpuri/Documents/python-projects/RL-trading/Stock-market-forecasting/data/2952193.csv\n"
     ]
    },
    {
     "output_type": "execute_result",
     "data": {
      "text/plain": [
       "<module 'utils' from '/Users/nikpuri/Documents/python-projects/RL-trading/Stock-market-forecasting/utils.py'>"
      ]
     },
     "metadata": {},
     "execution_count": 69
    }
   ],
   "source": [
    "import importlib\n",
    "importlib.reload(utils)"
   ]
  },
  {
   "cell_type": "code",
   "execution_count": 70,
   "metadata": {},
   "outputs": [],
   "source": [
    "utils.store_symbols(dict_zerodha_id_to_symbol)"
   ]
  },
  {
   "cell_type": "code",
   "execution_count": 71,
   "metadata": {},
   "outputs": [
    {
     "output_type": "execute_result",
     "data": {
      "text/plain": [
       "{'3861249': 'ADANIPORTS',\n",
       " '60417': 'ASIANPAINT',\n",
       " '1510401': 'AXISBANK',\n",
       " '4267265': 'BAJAJ-AUTO',\n",
       " '81153': 'BAJFINANCE',\n",
       " '4268801': 'BAJAJFINSV',\n",
       " '134657': 'BPCL',\n",
       " '2714625': 'BHARTIARTL',\n",
       " '140033': 'BRITANNIA',\n",
       " '177665': 'CIPLA',\n",
       " '5215745': 'COALINDIA',\n",
       " '2800641': 'DIVISLAB',\n",
       " '225537': 'DRREDDY',\n",
       " '232961': 'EICHERMOT',\n",
       " '1207553': 'GAIL',\n",
       " '315393': 'GRASIM',\n",
       " '1850625': 'HCLTECH',\n",
       " '341249': 'HDFCBANK',\n",
       " '119553': 'HDFCLIFE',\n",
       " '345089': 'HEROMOTOCO',\n",
       " '348929': 'HINDALCO',\n",
       " '356865': 'HINDUNILVR',\n",
       " '340481': 'HDFC',\n",
       " '1270529': 'ICICIBANK',\n",
       " '424961': 'ITC',\n",
       " '415745': 'IOC',\n",
       " '1346049': 'INDUSINDBK',\n",
       " '408065': 'INFY',\n",
       " '3001089': 'JSWSTEEL',\n",
       " '492033': 'KOTAKBANK',\n",
       " '2939649': 'LT',\n",
       " '519937': 'M&M',\n",
       " '2815745': 'MARUTI',\n",
       " '2977281': 'NTPC',\n",
       " '4598529': 'NESTLEIND',\n",
       " '633601': 'ONGC',\n",
       " '3834113': 'POWERGRID',\n",
       " '738561': 'RELIANCE',\n",
       " '5582849': 'SBILIFE',\n",
       " '794369': 'SHREECEM',\n",
       " '779521': 'SBIN',\n",
       " '857857': 'SUNPHARMA',\n",
       " '2953217': 'TCS',\n",
       " '884737': 'TATAMOTORS',\n",
       " '895745': 'TATASTEEL',\n",
       " '3465729': 'TECHM',\n",
       " '897537': 'TITAN',\n",
       " '2889473': 'UPL',\n",
       " '2952193': 'ULTRACEMCO',\n",
       " '969473': 'WIPRO'}"
      ]
     },
     "metadata": {},
     "execution_count": 71
    }
   ],
   "source": [
    "utils.get_symbols()"
   ]
  },
  {
   "cell_type": "code",
   "execution_count": null,
   "metadata": {},
   "outputs": [],
   "source": []
  }
 ]
}